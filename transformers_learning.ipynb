{
  "cells": [
    {
      "cell_type": "markdown",
      "metadata": {
        "id": "view-in-github",
        "colab_type": "text"
      },
      "source": [
        "<a href=\"https://colab.research.google.com/github/Manish142/NLP/blob/main/transformers_learning.ipynb\" target=\"_parent\"><img src=\"https://colab.research.google.com/assets/colab-badge.svg\" alt=\"Open In Colab\"/></a>"
      ]
    },
    {
      "cell_type": "code",
      "execution_count": null,
      "metadata": {
        "id": "QCPxqUn_3gL4"
      },
      "outputs": [],
      "source": [
        "!pip install transformers"
      ]
    },
    {
      "cell_type": "code",
      "execution_count": null,
      "metadata": {
        "id": "NFBzAxip3oNp"
      },
      "outputs": [],
      "source": [
        "from transformers import pipeline\n",
        "sentiment_analysis = pipeline(\"sentiment-analysis\")\n",
        "sentiment_analysis(\"We are studing but i want to play\")"
      ]
    },
    {
      "cell_type": "code",
      "execution_count": null,
      "metadata": {
        "id": "F7-UaJFZL7HH"
      },
      "outputs": [],
      "source": [
        "data = [\"I love you\", \"I hate you\",\"Pinky is corrupt office attendent at NIT Jalandhar.\"]\n",
        "sentiment_analysis(data)"
      ]
    },
    {
      "cell_type": "markdown",
      "metadata": {
        "id": "KLlOwr6ANCx9"
      },
      "source": [
        "Using another model"
      ]
    },
    {
      "cell_type": "code",
      "execution_count": null,
      "metadata": {
        "id": "hkb7szqeNFfq"
      },
      "outputs": [],
      "source": [
        "specific_model = pipeline(\"text-classification\")\n",
        "specific_model(data)"
      ]
    },
    {
      "cell_type": "markdown",
      "source": [
        "**Text generation**"
      ],
      "metadata": {
        "id": "uJvXB_x0qxHd"
      }
    },
    {
      "cell_type": "code",
      "source": [
        "text_gen = pipeline(\"text-generation\", model = 'gpt2')  # model can be distilbert\n",
        "text_gen(\"I will write a long essay\")  # Provided by open AI"
      ],
      "metadata": {
        "id": "kHiOagiNqw0r"
      },
      "execution_count": null,
      "outputs": []
    },
    {
      "cell_type": "markdown",
      "source": [
        "**zero-shot-classification**"
      ],
      "metadata": {
        "id": "thDUUk-_tZka"
      }
    },
    {
      "cell_type": "code",
      "execution_count": null,
      "metadata": {
        "id": "tWIMqAf45dWH"
      },
      "outputs": [],
      "source": [
        "from transformers import pipeline\n",
        "\n",
        "zero_shot_classifier = pipeline(\"zero-shot-classification\")  # No need to fine tune your model to your dataset.\n",
        "zero_shot_classifier(\n",
        "    \"Today we are learning Natural language processing in the class. It is awesome to work on pretuned models\",\n",
        "    candidate_labels=[\"Machine learning\", \"Education\", \"Aashish Sagar\"],\n",
        ")"
      ]
    },
    {
      "cell_type": "code",
      "source": [
        "from transformers import pipeline\n",
        "summary = pipeline(\"summarization\", model = 'google/pegasus-xsum')\n",
        "\n",
        "summary(\"\"\" The International Monetary Fund (IMF) has assured support to debt-ridden Sri Lanka in its efforts to mitigate the current economic crisis and termed the initial discussions with the delegation led by the country's Finance Minister Ali Sabry as \"fruitful\".\n",
        "\n",
        "Sri Lanka is grappling with an unprecedented economic turmoil since its independence from Britain in 1948.\n",
        "\n",
        "The crisis is caused in part by a lack of foreign currency, which has meant that the country cannot afford to pay for imports of staple foods and fuel, leading to acute shortages and very high prices.\n",
        "\n",
        "Mr. Sabry and his delegation, that included the Central Bank Governor Nandalal Weerasinghe are currently in Washington, where they held technical discussions for an IMF-supported programme.\n",
        "\n",
        "“The Sri Lankan delegation and the IMF team had fruitful technical discussions on the authorities’ request for an IMF-supported programme. The discussions covered recent economic and financial developments in Sri Lanka, and the need for implementing a credible and coherent strategy to restore macroeconomic stability,” the IMF said in a statement on Saturday.\n",
        "\n",
        "Sri Lanka needs at least $4 billion to tide over its mounting economic woes, and Mr. Sabry has been holding talks with the World Bank and countries like China and Japan for financial assistance.\n",
        "\n",
        "\"\"\")"
      ],
      "metadata": {
        "id": "1Vy3N6PtotGi"
      },
      "execution_count": null,
      "outputs": []
    },
    {
      "cell_type": "markdown",
      "source": [
        "Translation"
      ],
      "metadata": {
        "id": "53ogYxR-0WnI"
      }
    }
  ],
  "metadata": {
    "accelerator": "GPU",
    "colab": {
      "name": "transformers_learning.ipynb",
      "provenance": [],
      "authorship_tag": "ABX9TyOW/Lby0WIPSkwsgP5bZIPx",
      "include_colab_link": true
    },
    "kernelspec": {
      "display_name": "Python 3",
      "name": "python3"
    },
    "language_info": {
      "name": "python"
    }
  },
  "nbformat": 4,
  "nbformat_minor": 0
}