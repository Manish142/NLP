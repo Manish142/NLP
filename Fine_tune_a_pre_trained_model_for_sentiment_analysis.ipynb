{
  "cells": [
    {
      "cell_type": "markdown",
      "metadata": {
        "id": "view-in-github",
        "colab_type": "text"
      },
      "source": [
        "<a href=\"https://colab.research.google.com/github/Manish142/NLP/blob/main/Fine_tune_a_pre_trained_model_for_sentiment_analysis.ipynb\" target=\"_parent\"><img src=\"https://colab.research.google.com/assets/colab-badge.svg\" alt=\"Open In Colab\"/></a>"
      ]
    },
    {
      "cell_type": "markdown",
      "metadata": {
        "id": "1CRSm4OHVCmY"
      },
      "source": [
        "# 1. Activate GPU and Install Dependencies"
      ]
    },
    {
      "cell_type": "code",
      "execution_count": null,
      "metadata": {
        "colab": {
          "base_uri": "https://localhost:8080/"
        },
        "id": "bxWHZyRQa2fE",
        "outputId": "44512477-7168-4158-dbbb-a8a0797ef1d1"
      },
      "outputs": [
        {
          "output_type": "execute_result",
          "data": {
            "text/plain": [
              "False"
            ]
          },
          "metadata": {},
          "execution_count": 3
        }
      ],
      "source": [
        "import torch\n",
        "torch.cuda.is_available()"
      ]
    },
    {
      "cell_type": "code",
      "execution_count": null,
      "metadata": {
        "id": "vf4NyoemGKCx"
      },
      "outputs": [],
      "source": [
        "# Install required libraries\n",
        "!pip install datasets transformers huggingface_hub\n",
        "!apt-get install git-lfs"
      ]
    },
    {
      "cell_type": "markdown",
      "metadata": {
        "id": "30SGKgXKZ15V"
      },
      "source": [
        "#2. Preprocess data"
      ]
    },
    {
      "cell_type": "code",
      "execution_count": null,
      "metadata": {
        "id": "0tyVQSMTGNy4"
      },
      "outputs": [],
      "source": [
        "# Load data\n",
        "from datasets import load_dataset\n",
        "imdb = load_dataset(\"imdb\")"
      ]
    },
    {
      "cell_type": "code",
      "execution_count": null,
      "metadata": {
        "id": "DUeYgosTs28B"
      },
      "outputs": [],
      "source": [
        "# Create a smaller training dataset for faster training times\n",
        "small_train_dataset = imdb[\"train\"].shuffle(seed=42).select([i for i in list(range(5000))])\n",
        "small_test_dataset = imdb[\"test\"].shuffle(seed=42).select([i for i in list(range(500))])\n",
        "print(small_train_dataset[0])\n",
        "print(small_test_dataset[0])"
      ]
    },
    {
      "cell_type": "code",
      "execution_count": null,
      "metadata": {
        "id": "ZlrHnqydHc3b"
      },
      "outputs": [],
      "source": [
        "# Set DistilBERT tokenizer\n",
        "from transformers import AutoTokenizer\n",
        "tokenizer = AutoTokenizer.from_pretrained(\"distilbert-base-uncased\")"
      ]
    },
    {
      "cell_type": "code",
      "execution_count": null,
      "metadata": {
        "id": "_GCjM48HGScT"
      },
      "outputs": [],
      "source": [
        "# Prepare the text inputs for the model\n",
        "def preprocess_function(examples):\n",
        "    return tokenizer(examples[\"text\"], truncation=True)\n",
        "\n",
        "tokenized_train = small_train_dataset.map(preprocess_function, batched=True)\n",
        "tokenized_test = small_test_dataset.map(preprocess_function, batched=True)"
      ]
    },
    {
      "cell_type": "code",
      "execution_count": null,
      "metadata": {
        "id": "7t8AbE9IHKJm"
      },
      "outputs": [],
      "source": [
        "# Use data_collector to convert our samples to PyTorch tensors and concatenate them with the correct amount of padding\n",
        "from transformers import DataCollatorWithPadding\n",
        "data_collator = DataCollatorWithPadding(tokenizer=tokenizer)"
      ]
    },
    {
      "cell_type": "markdown",
      "metadata": {
        "id": "nIbhAIYXZ8Rl"
      },
      "source": [
        "# 3. Training the model"
      ]
    },
    {
      "cell_type": "code",
      "execution_count": null,
      "metadata": {
        "id": "6oWU3UUpH0gT"
      },
      "outputs": [],
      "source": [
        "# Define DistilBERT as our base model:\n",
        "from transformers import AutoModelForSequenceClassification\n",
        "model = AutoModelForSequenceClassification.from_pretrained(\"distilbert-base-uncased\", num_labels=2)"
      ]
    },
    {
      "cell_type": "code",
      "execution_count": null,
      "metadata": {
        "id": "kjHDD0JzNkga"
      },
      "outputs": [],
      "source": [
        "# Define the evaluation metrics \n",
        "import numpy as np\n",
        "from datasets import load_metric\n",
        "\n",
        "def compute_metrics(eval_pred):\n",
        "    load_accuracy = load_metric(\"accuracy\")\n",
        "    load_f1 = load_metric(\"f1\")\n",
        "    \n",
        "    logits, labels = eval_pred\n",
        "    predictions = np.argmax(logits, axis=-1)\n",
        "    accuracy = load_accuracy.compute(predictions=predictions, references=labels)[\"accuracy\"]\n",
        "    f1 = load_f1.compute(predictions=predictions, references=labels)[\"f1\"]\n",
        "    return {\"accuracy\": accuracy, \"f1\": f1}"
      ]
    },
    {
      "cell_type": "code",
      "execution_count": null,
      "metadata": {
        "id": "hwzuYUjOM1jd"
      },
      "outputs": [],
      "source": [
        "# Log in to your Hugging Face account \n",
        "# Get your API token here https://huggingface.co/settings/token\n",
        "from huggingface_hub import notebook_login\n",
        "\n",
        "notebook_login()"
      ]
    },
    {
      "cell_type": "code",
      "execution_count": null,
      "metadata": {
        "colab": {
          "base_uri": "https://localhost:8080/"
        },
        "id": "nq9Ju-QBxZ1y",
        "outputId": "0990734c-1021-4f5a-8e14-ff92dc2c5c8a"
      },
      "outputs": [
        {
          "output_type": "stream",
          "name": "stderr",
          "text": [
            "Cloning https://huggingface.co/Manishkalra/finetuning-sentiment-model-5000-samples into local empty directory.\n"
          ]
        }
      ],
      "source": [
        "# Define a new Trainer with all the objects we constructed so far\n",
        "from transformers import TrainingArguments, Trainer\n",
        "\n",
        "repo_name = \"finetuning-sentiment-model-5000-samples\"\n",
        "\n",
        "training_args = TrainingArguments(\n",
        "    output_dir=repo_name,\n",
        "    learning_rate=2e-5,\n",
        "    per_device_train_batch_size=16,\n",
        "    per_device_eval_batch_size=16,\n",
        "    num_train_epochs=2,\n",
        "    weight_decay=0.01,\n",
        "    save_strategy=\"epoch\", \n",
        "    push_to_hub=True,\n",
        ")\n",
        "\n",
        "trainer = Trainer(\n",
        "    model=model,\n",
        "    args=training_args,\n",
        "    train_dataset=tokenized_train,\n",
        "    eval_dataset=tokenized_test,\n",
        "    tokenizer=tokenizer,\n",
        "    data_collator=data_collator,\n",
        "    compute_metrics=compute_metrics,\n",
        ")"
      ]
    },
    {
      "cell_type": "code",
      "execution_count": null,
      "metadata": {
        "id": "gZ1ouXObuewV"
      },
      "outputs": [],
      "source": [
        "# Train the model\n",
        "trainer.train()"
      ]
    },
    {
      "cell_type": "code",
      "execution_count": null,
      "metadata": {
        "id": "GAU4UgqZH5C8"
      },
      "outputs": [],
      "source": [
        "# Compute the evaluation metrics\n",
        "trainer.evaluate()"
      ]
    },
    {
      "cell_type": "markdown",
      "metadata": {
        "id": "InP1LYnQaIfE"
      },
      "source": [
        "# 4. Analyzing new data with the model"
      ]
    },
    {
      "cell_type": "code",
      "execution_count": null,
      "metadata": {
        "id": "qmGQxa5_MzTl"
      },
      "outputs": [],
      "source": [
        "# Upload the model to the Hub\n",
        "trainer.push_to_hub()"
      ]
    },
    {
      "cell_type": "code",
      "execution_count": null,
      "metadata": {
        "id": "oB-ikgCN77wP"
      },
      "outputs": [],
      "source": [
        "# Run inferences with your new model using Pipeline\n",
        "from transformers import pipeline\n",
        "\n",
        "sentiment_model = pipeline(model=\"Manishkalra/finetuning-sentiment-model-5000-samples\")\n",
        "\n",
        "sentiment_model([\"I love this movie\"])"
      ]
    }
  ],
  "metadata": {
    "colab": {
      "collapsed_sections": [],
      "name": "Fine tune a pre-trained model for sentiment-analysis.ipynb",
      "provenance": [],
      "include_colab_link": true
    },
    "kernelspec": {
      "display_name": "Python 3",
      "name": "python3"
    },
    "language_info": {
      "name": "python"
    }
  },
  "nbformat": 4,
  "nbformat_minor": 0
}