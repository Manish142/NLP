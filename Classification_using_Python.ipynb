{
  "nbformat": 4,
  "nbformat_minor": 0,
  "metadata": {
    "colab": {
      "provenance": [],
      "authorship_tag": "ABX9TyNrMHbNo7hG5C8jZEOo98yN",
      "include_colab_link": true
    },
    "kernelspec": {
      "name": "python3",
      "display_name": "Python 3"
    },
    "language_info": {
      "name": "python"
    }
  },
  "cells": [
    {
      "cell_type": "markdown",
      "metadata": {
        "id": "view-in-github",
        "colab_type": "text"
      },
      "source": [
        "<a href=\"https://colab.research.google.com/github/Manish142/NLP/blob/main/Classification_using_Python.ipynb\" target=\"_parent\"><img src=\"https://colab.research.google.com/assets/colab-badge.svg\" alt=\"Open In Colab\"/></a>"
      ]
    },
    {
      "cell_type": "markdown",
      "source": [
        "**Importing the dataset.**"
      ],
      "metadata": {
        "id": "Sm8Sk5ITC1wg"
      }
    },
    {
      "cell_type": "code",
      "execution_count": 3,
      "metadata": {
        "id": "cvLgbwNx5z40"
      },
      "outputs": [],
      "source": [
        "from keras.datasets import mnist"
      ]
    },
    {
      "cell_type": "code",
      "source": [
        "(train_images,train_labels),(test_images,test_labels) = mnist.load_data()"
      ],
      "metadata": {
        "id": "rzCpukGI6vD_"
      },
      "execution_count": 4,
      "outputs": []
    },
    {
      "cell_type": "markdown",
      "source": [
        "**Key attributes of tensor**"
      ],
      "metadata": {
        "id": "mEngZxEJnVP-"
      }
    },
    {
      "cell_type": "code",
      "source": [
        "print(train_images.shape)  # 3D tensor"
      ],
      "metadata": {
        "colab": {
          "base_uri": "https://localhost:8080/"
        },
        "id": "KuUlnwSv7N_c",
        "outputId": "3c9a236a-e8cc-4b31-895b-3afed1ae34af"
      },
      "execution_count": 5,
      "outputs": [
        {
          "output_type": "stream",
          "name": "stdout",
          "text": [
            "(60000, 28, 28)\n"
          ]
        }
      ]
    },
    {
      "cell_type": "code",
      "source": [
        "print(train_images.ndim)   # axes or rank"
      ],
      "metadata": {
        "colab": {
          "base_uri": "https://localhost:8080/"
        },
        "id": "GwonPqow2ApG",
        "outputId": "4d353661-92a7-4a3b-84ef-4e98af05b09c"
      },
      "execution_count": 6,
      "outputs": [
        {
          "output_type": "stream",
          "name": "stdout",
          "text": [
            "3\n"
          ]
        }
      ]
    },
    {
      "cell_type": "code",
      "source": [
        "train_images.dtype"
      ],
      "metadata": {
        "colab": {
          "base_uri": "https://localhost:8080/"
        },
        "id": "XhArGiBEmx28",
        "outputId": "5560be99-fba2-474d-ef43-da622f5ba542"
      },
      "execution_count": 7,
      "outputs": [
        {
          "output_type": "execute_result",
          "data": {
            "text/plain": [
              "dtype('uint8')"
            ]
          },
          "metadata": {},
          "execution_count": 7
        }
      ]
    },
    {
      "cell_type": "code",
      "source": [
        "print(train_labels.dtype)  # 8 bit data type"
      ],
      "metadata": {
        "colab": {
          "base_uri": "https://localhost:8080/"
        },
        "id": "0p08weLExDjt",
        "outputId": "a409c310-c638-48ff-9376-7dde3b97f8ee"
      },
      "execution_count": 8,
      "outputs": [
        {
          "output_type": "stream",
          "name": "stdout",
          "text": [
            "uint8\n"
          ]
        }
      ]
    },
    {
      "cell_type": "markdown",
      "source": [
        "Length of train levels"
      ],
      "metadata": {
        "id": "RDXZoBJ17nCn"
      }
    },
    {
      "cell_type": "code",
      "source": [
        "len(train_labels)"
      ],
      "metadata": {
        "colab": {
          "base_uri": "https://localhost:8080/"
        },
        "id": "Ej5_2u9A7mw-",
        "outputId": "85131128-a1be-4c75-9932-1c8c7f84a23a"
      },
      "execution_count": 9,
      "outputs": [
        {
          "output_type": "execute_result",
          "data": {
            "text/plain": [
              "60000"
            ]
          },
          "metadata": {},
          "execution_count": 9
        }
      ]
    },
    {
      "cell_type": "code",
      "source": [
        "digit = train_images[60]\n",
        "print(train_labels[60])\n",
        "import matplotlib.pyplot as plt\n",
        "plt.imshow(digit)\n",
        "plt.show()"
      ],
      "metadata": {
        "colab": {
          "base_uri": "https://localhost:8080/",
          "height": 282
        },
        "id": "WRnmjfwA7-4W",
        "outputId": "ec6d79d4-4cdc-4883-c157-8e02beabb704"
      },
      "execution_count": 11,
      "outputs": [
        {
          "output_type": "stream",
          "name": "stdout",
          "text": [
            "4\n"
          ]
        },
        {
          "output_type": "display_data",
          "data": {
            "text/plain": [
              "<Figure size 432x288 with 1 Axes>"
            ],
            "image/png": "[encoded data removed]"
          },
          "metadata": {
            "needs_background": "light"
          }
        }
      ]
    },
    {
      "cell_type": "markdown",
      "source": [
        "Manipulating tensor in **Numpy**"
      ],
      "metadata": {
        "id": "iSnQg4RypUAm"
      }
    },
    {
      "cell_type": "code",
      "source": [
        "my_slice = train_images[10:100] \n",
        "print(my_slice.shape)"
      ],
      "metadata": {
        "colab": {
          "base_uri": "https://localhost:8080/"
        },
        "id": "g1wcBNW2ptGz",
        "outputId": "0f07af4c-dbbe-43ab-e679-2d2d00cf6e8c"
      },
      "execution_count": 12,
      "outputs": [
        {
          "output_type": "stream",
          "name": "stdout",
          "text": [
            "(90, 28, 28)\n"
          ]
        }
      ]
    },
    {
      "cell_type": "code",
      "source": [
        "slice = train_images[100:5000,0:28,0:28]\n",
        "print(slice.shape)"
      ],
      "metadata": {
        "colab": {
          "base_uri": "https://localhost:8080/"
        },
        "id": "tiafP3s05rsK",
        "outputId": "dd581043-d6c4-4a8a-92c6-b760ef9f6731"
      },
      "execution_count": 13,
      "outputs": [
        {
          "output_type": "stream",
          "name": "stdout",
          "text": [
            "(4900, 28, 28)\n"
          ]
        }
      ]
    },
    {
      "cell_type": "code",
      "source": [
        "my_slice = train_images[10:100,:,:]\n",
        "my_slice.shape"
      ],
      "metadata": {
        "colab": {
          "base_uri": "https://localhost:8080/"
        },
        "id": "8e--CLqgqJCn",
        "outputId": "754c269e-0071-4a9d-e64a-13b623d02fbe"
      },
      "execution_count": 14,
      "outputs": [
        {
          "output_type": "execute_result",
          "data": {
            "text/plain": [
              "(90, 28, 28)"
            ]
          },
          "metadata": {},
          "execution_count": 14
        }
      ]
    },
    {
      "cell_type": "code",
      "source": [
        "my_slice = train_images[:,14:,14:]   # Bottom right of all the images\n",
        "my_slice.shape"
      ],
      "metadata": {
        "colab": {
          "base_uri": "https://localhost:8080/"
        },
        "id": "jI7ej_Vuqsim",
        "outputId": "f011a32d-c82e-42c4-9f64-4171096a29b8"
      },
      "execution_count": 15,
      "outputs": [
        {
          "output_type": "execute_result",
          "data": {
            "text/plain": [
              "(60000, 14, 14)"
            ]
          },
          "metadata": {},
          "execution_count": 15
        }
      ]
    },
    {
      "cell_type": "code",
      "source": [
        "my_slice = train_images[:,7:-7,7:-7]   # 14*14 pixel centeres in the middle\n",
        "my_slice.shape"
      ],
      "metadata": {
        "colab": {
          "base_uri": "https://localhost:8080/"
        },
        "id": "ev5SIFVBrSTa",
        "outputId": "69ba7c1b-61e6-40aa-a6b1-7bee9568f27b"
      },
      "execution_count": 16,
      "outputs": [
        {
          "output_type": "execute_result",
          "data": {
            "text/plain": [
              "(60000, 14, 14)"
            ]
          },
          "metadata": {},
          "execution_count": 16
        }
      ]
    },
    {
      "cell_type": "markdown",
      "source": [
        "**The notion of data batches**"
      ],
      "metadata": {
        "id": "4mHrOsZTsFdF"
      }
    },
    {
      "cell_type": "markdown",
      "source": [
        "Deep learning models do not process an entire dataset at once. They break the data into batches.\n",
        "\n"
      ],
      "metadata": {
        "id": "4ihXD_CdtBQh"
      }
    },
    {
      "cell_type": "code",
      "source": [
        "batch = train_images[:128] # One batch of our MNIST dataset\n",
        "batch.shape"
      ],
      "metadata": {
        "colab": {
          "base_uri": "https://localhost:8080/"
        },
        "id": "pP8VLVcmr9Xv",
        "outputId": "84fca077-3532-427c-9bc1-e8b4deb37ce6"
      },
      "execution_count": 17,
      "outputs": [
        {
          "output_type": "execute_result",
          "data": {
            "text/plain": [
              "(128, 28, 28)"
            ]
          },
          "metadata": {},
          "execution_count": 17
        }
      ]
    },
    {
      "cell_type": "code",
      "source": [
        "batch = train_images[128:256] # The next batch\n",
        "batch.shape"
      ],
      "metadata": {
        "colab": {
          "base_uri": "https://localhost:8080/"
        },
        "id": "jCLhYEGVt8n-",
        "outputId": "0840a62d-a224-4603-e98b-3e79c8326ed2"
      },
      "execution_count": null,
      "outputs": [
        {
          "output_type": "execute_result",
          "data": {
            "text/plain": [
              "(128, 28, 28)"
            ]
          },
          "metadata": {},
          "execution_count": 15
        }
      ]
    },
    {
      "cell_type": "markdown",
      "source": [
        "And the nth batch :\n",
        "batch= train_images[128*n: (n+1)]"
      ],
      "metadata": {
        "id": "qbLxBUExuV4w"
      }
    },
    {
      "cell_type": "code",
      "source": [
        "n=50\n",
        "batch= train_images[128*n: 128*(n+1)]\n",
        "batch.shape\n"
      ],
      "metadata": {
        "id": "oJY8swMluGHA",
        "colab": {
          "base_uri": "https://localhost:8080/"
        },
        "outputId": "fd175c10-2e73-4b5f-8fc8-268b85f62bef"
      },
      "execution_count": null,
      "outputs": [
        {
          "output_type": "execute_result",
          "data": {
            "text/plain": [
              "(128, 28, 28)"
            ]
          },
          "metadata": {},
          "execution_count": 16
        }
      ]
    },
    {
      "cell_type": "markdown",
      "source": [
        "The first axes (axis 0) is called batch size."
      ],
      "metadata": {
        "id": "3qauJRHAu33V"
      }
    },
    {
      "cell_type": "code",
      "source": [
        "len(test_labels)"
      ],
      "metadata": {
        "colab": {
          "base_uri": "https://localhost:8080/"
        },
        "id": "_D9VAUED8HWG",
        "outputId": "185084ba-bdec-4135-852e-e17b51e8e1b1"
      },
      "execution_count": null,
      "outputs": [
        {
          "output_type": "execute_result",
          "data": {
            "text/plain": [
              "10000"
            ]
          },
          "metadata": {},
          "execution_count": 17
        }
      ]
    },
    {
      "cell_type": "code",
      "source": [
        "test_labels"
      ],
      "metadata": {
        "colab": {
          "base_uri": "https://localhost:8080/"
        },
        "id": "ABN60YqW8bSf",
        "outputId": "f50b8d40-f345-4b62-ad0f-3545cfed9a41"
      },
      "execution_count": null,
      "outputs": [
        {
          "output_type": "execute_result",
          "data": {
            "text/plain": [
              "array([7, 2, 1, ..., 4, 5, 6], dtype=uint8)"
            ]
          },
          "metadata": {},
          "execution_count": 18
        }
      ]
    },
    {
      "cell_type": "markdown",
      "source": [
        "**Tensors operations**"
      ],
      "metadata": {
        "id": "__SaHI00t8-J"
      }
    },
    {
      "cell_type": "markdown",
      "source": [
        "Element-wise operations"
      ],
      "metadata": {
        "id": "2VFo2GOg1aVn"
      }
    },
    {
      "cell_type": "code",
      "source": [
        "import numpy as np\n",
        "#x = np.random.random(10)\n",
        "x = np.array([-5,1,-2,0,5])\n",
        "print('x=',x)\n",
        "#y= np.random.random(10)\n",
        "y = np.array([+2,-2,3,-5,-2])\n",
        "print('y=',y)\n",
        "z=x+y                         # Element Wise operation (addition)\n",
        "print('z=',z)\n",
        "z = np.maximum(z,0)           # Element-wise relu\n",
        "print('relu of z=',z)"
      ],
      "metadata": {
        "colab": {
          "base_uri": "https://localhost:8080/"
        },
        "id": "WvxpOPAIuNLG",
        "outputId": "9a8b75ea-cb97-4d6f-b8dd-f149afe652f1"
      },
      "execution_count": null,
      "outputs": [
        {
          "output_type": "stream",
          "name": "stdout",
          "text": [
            "x= [-5  1 -2  0  5]\n",
            "y= [ 2 -2  3 -5 -2]\n",
            "z= [-3 -1  1 -5  3]\n",
            "relu of z= [0 0 1 0 3]\n"
          ]
        }
      ]
    },
    {
      "cell_type": "markdown",
      "source": [
        "**Broadcasting** (Smaller tensor will be broadcasted to match the shape of larger tensor):\n",
        "1. Axes are added to smaller tensor.\n",
        "2. The smaller tensor is repeated alongside these new axes to match the shape of the larger tensor.\n"
      ],
      "metadata": {
        "id": "kYy2Qgks1gGm"
      }
    },
    {
      "cell_type": "code",
      "source": [
        "import numpy as np\n",
        "x= np.random.random((32,1,7,5))  #4D tensor\n",
        "y= np.random.random((7,5))       #2D tensor\n",
        "z= np.maximum(x,y)\n",
        "print(z.shape)\n",
        "print(z)"
      ],
      "metadata": {
        "colab": {
          "base_uri": "https://localhost:8080/"
        },
        "id": "bYlSFSGH3inI",
        "outputId": "f05f7073-90a6-4b11-d758-dd60680f24cc"
      },
      "execution_count": null,
      "outputs": [
        {
          "output_type": "stream",
          "name": "stdout",
          "text": [
            "(32, 1, 7, 5)\n",
            "[[[[0.60973613 0.45346629 0.98625937 0.69114916 0.32699307]\n",
            "   [0.92627755 0.57338805 0.68965019 0.927754   0.99775003]\n",
            "   [0.87808027 0.82267743 0.77158879 0.85254512 0.84097119]\n",
            "   ...\n",
            "   [0.94998773 0.80465429 0.4697345  0.43288558 0.79863928]\n",
            "   [0.60122328 0.93003482 0.71487131 0.90901731 0.48329237]\n",
            "   [0.80757651 0.90685878 0.9075534  0.98782749 0.95808555]]]\n",
            "\n",
            "\n",
            " [[[0.81708137 0.20025638 0.98625937 0.57102621 0.2908543 ]\n",
            "   [0.92627755 0.93564157 0.49415558 0.95121105 0.73569646]\n",
            "   [0.78481277 0.82267743 0.77158879 0.42978488 0.39602846]\n",
            "   ...\n",
            "   [0.94998773 0.80465429 0.92540524 0.77886618 0.69779871]\n",
            "   [0.60122328 0.77585794 0.71487131 0.90901731 0.7651617 ]\n",
            "   [0.52274497 0.69480653 0.9075534  0.33997933 0.95808555]]]\n",
            "\n",
            "\n",
            " [[[0.43419916 0.20025638 0.98625937 0.60044152 0.5328318 ]\n",
            "   [0.92627755 0.19583473 0.49953694 0.66276272 0.62034885]\n",
            "   [0.78481277 0.82267743 0.77158879 0.93487555 0.42155619]\n",
            "   ...\n",
            "   [0.94998773 0.98844006 0.4697345  0.88991071 0.58529611]\n",
            "   [0.60122328 0.6510398  0.76092245 0.90901731 0.84806551]\n",
            "   [0.52274497 0.69480653 0.9075534  0.31418015 0.95808555]]]\n",
            "\n",
            "\n",
            " ...\n",
            "\n",
            "\n",
            " [[[0.43419916 0.83697977 0.98625937 0.44272177 0.37566968]\n",
            "   [0.94862411 0.89220662 0.53093148 0.87292562 0.61413686]\n",
            "   [0.78481277 0.82267743 0.77158879 0.92412303 0.66648506]\n",
            "   ...\n",
            "   [0.94998773 0.94746994 0.53836015 0.43288558 0.41544935]\n",
            "   [0.60122328 0.9812427  0.83150981 0.90901731 0.48329237]\n",
            "   [0.63095056 0.69480653 0.9075534  0.08894108 0.95808555]]]\n",
            "\n",
            "\n",
            " [[[0.43419916 0.60886831 0.98625937 0.89603765 0.68907698]\n",
            "   [0.92627755 0.23767551 0.8528299  0.51339443 0.99716981]\n",
            "   [0.78481277 0.82267743 0.84922365 0.47296451 0.42666265]\n",
            "   ...\n",
            "   [0.94998773 0.80465429 0.84577685 0.43288558 0.99160106]\n",
            "   [0.60122328 0.6510398  0.71487131 0.90901731 0.87542954]\n",
            "   [0.52274497 0.69480653 0.9075534  0.47599218 0.95808555]]]\n",
            "\n",
            "\n",
            " [[[0.62889287 0.20025638 0.98625937 0.684236   0.81717076]\n",
            "   [0.92627755 0.68049282 0.49415558 0.7580672  0.61413686]\n",
            "   [0.78481277 0.82267743 0.77158879 0.80869149 0.89574998]\n",
            "   ...\n",
            "   [0.94998773 0.80465429 0.4697345  0.43288558 0.58697323]\n",
            "   [0.74822201 0.6510398  0.71487131 0.90901731 0.61480572]\n",
            "   [0.52274497 0.69480653 0.95028459 0.76424599 0.95808555]]]]\n"
          ]
        }
      ]
    },
    {
      "cell_type": "code",
      "source": [
        "import numpy as np\n",
        "x= np.random.random((32,1,8,5))\n",
        "y= np.random.random((8,5))\n",
        "z= x+y                                # automatic broadcasting\n",
        "print(z.shape)"
      ],
      "metadata": {
        "colab": {
          "base_uri": "https://localhost:8080/"
        },
        "id": "5U2cFB7H4q9q",
        "outputId": "b70e5f0e-ffc1-4cc7-b826-59a0d3fc9fa8"
      },
      "execution_count": null,
      "outputs": [
        {
          "output_type": "stream",
          "name": "stdout",
          "text": [
            "(32, 1, 8, 5)\n"
          ]
        }
      ]
    },
    {
      "cell_type": "code",
      "source": [
        "import numpy as np\n",
        "x= np.random.random((32,1,8,5))\n",
        "y= np.random.random((1,8,5))\n",
        "z= x*y                                # automatic broadcasting\n",
        "print(z.shape)"
      ],
      "metadata": {
        "colab": {
          "base_uri": "https://localhost:8080/"
        },
        "id": "sOQP3oYZ5ckn",
        "outputId": "8bea0643-747d-4fe8-9715-94946ab9d163"
      },
      "execution_count": null,
      "outputs": [
        {
          "output_type": "stream",
          "name": "stdout",
          "text": [
            "(32, 1, 8, 5)\n"
          ]
        }
      ]
    },
    {
      "cell_type": "markdown",
      "source": [
        "**Tensor dot**"
      ],
      "metadata": {
        "id": "nHV-a17A6J_3"
      }
    },
    {
      "cell_type": "code",
      "source": [
        "import numpy as np\n",
        "x= np.random.random((32,5,8))\n",
        "y= np.random.random((8,8,7))\n",
        "z= np.dot(x,y)                                \n",
        "print(z.shape)"
      ],
      "metadata": {
        "colab": {
          "base_uri": "https://localhost:8080/"
        },
        "id": "765dmmLr7c_G",
        "outputId": "eca43671-4c6d-4d4a-e5a3-fa99b1b0270c"
      },
      "execution_count": null,
      "outputs": [
        {
          "output_type": "stream",
          "name": "stdout",
          "text": [
            "(32, 5, 8, 7)\n"
          ]
        }
      ]
    },
    {
      "cell_type": "markdown",
      "source": [
        "**Tensor reshaping**"
      ],
      "metadata": {
        "id": "ngN8ocFW-yKi"
      }
    },
    {
      "cell_type": "code",
      "source": [
        "x= np.array([[1,2,3,4],[5,6,7,8]])\n",
        "x\n",
        "x.shape\n"
      ],
      "metadata": {
        "colab": {
          "base_uri": "https://localhost:8080/"
        },
        "id": "TrsYdLuo-2YP",
        "outputId": "697bdee0-4c88-45b9-e5c4-fe89c7ee5819"
      },
      "execution_count": null,
      "outputs": [
        {
          "output_type": "execute_result",
          "data": {
            "text/plain": [
              "(2, 4)"
            ]
          },
          "metadata": {},
          "execution_count": 24
        }
      ]
    },
    {
      "cell_type": "code",
      "source": [
        "y= x.reshape((1,8))\n",
        "y\n"
      ],
      "metadata": {
        "colab": {
          "base_uri": "https://localhost:8080/"
        },
        "id": "qs8vS9esT7AL",
        "outputId": "0e8be29a-9d11-4c12-ba85-839dd506afad"
      },
      "execution_count": null,
      "outputs": [
        {
          "output_type": "execute_result",
          "data": {
            "text/plain": [
              "array([[1, 2, 3, 4, 5, 6, 7, 8]])"
            ]
          },
          "metadata": {},
          "execution_count": 25
        }
      ]
    },
    {
      "cell_type": "code",
      "source": [
        "a= np.array([1,2,3])\n",
        "b= np.array([4,5,6])\n",
        "c= np.dot(a,b)\n",
        "\n",
        "print(a.shape)\n",
        "print(b.shape)\n",
        "print(c.shape)\n",
        "print(c)\n"
      ],
      "metadata": {
        "colab": {
          "base_uri": "https://localhost:8080/"
        },
        "id": "IyI40yBOXLHn",
        "outputId": "8d1cbbce-5103-4c65-a231-d4c9f51de241"
      },
      "execution_count": null,
      "outputs": [
        {
          "output_type": "stream",
          "name": "stdout",
          "text": [
            "(3,)\n",
            "(3,)\n",
            "()\n",
            "32\n"
          ]
        }
      ]
    },
    {
      "cell_type": "markdown",
      "source": [
        "**Network Architecture**"
      ],
      "metadata": {
        "id": "0HuX3bMy8uww"
      }
    },
    {
      "cell_type": "code",
      "source": [
        "from keras import models\n",
        "from keras import layers\n",
        "\n",
        "network = models.Sequential()\n",
        "network.add(layers.Dense(512,activation='relu',input_shape=(28*28,))) # output = relu(dot(w,input)+b)\n",
        "\n",
        "network.add(layers.Dense(256,activation = 'relu'))\n",
        "\n",
        "\n",
        "network.add(layers.Dense(10,activation='softmax'))"
      ],
      "metadata": {
        "id": "IZTo11DZ82OI"
      },
      "execution_count": 18,
      "outputs": []
    },
    {
      "cell_type": "code",
      "source": [
        "network.compile(optimizer='rmsprop',loss='categorical_crossentropy',metrics='accuracy')"
      ],
      "metadata": {
        "id": "qapeTpE9Aph1"
      },
      "execution_count": 20,
      "outputs": []
    },
    {
      "cell_type": "markdown",
      "source": [
        "**Preparing the image data**"
      ],
      "metadata": {
        "id": "19ldNV2F3etF"
      }
    },
    {
      "cell_type": "code",
      "source": [
        "print(train_images.shape)\n",
        "train_images=train_images.reshape((60000,28*28))\n",
        "print(train_images.shape)\n",
        "train_images= train_images.astype('float')/255\n",
        "test_images = test_images.reshape((10000,28*28))\n",
        "test_images = test_images.astype('float32')/255 "
      ],
      "metadata": {
        "id": "hZODpNsJBWGW",
        "colab": {
          "base_uri": "https://localhost:8080/"
        },
        "outputId": "7e6fd2e4-f549-4139-aa53-4486dfd9c8fb"
      },
      "execution_count": 21,
      "outputs": [
        {
          "output_type": "stream",
          "name": "stdout",
          "text": [
            "(60000, 28, 28)\n",
            "(60000, 784)\n"
          ]
        }
      ]
    },
    {
      "cell_type": "markdown",
      "source": [
        "**Preparing the labels**"
      ],
      "metadata": {
        "id": "DUs5VEuYGGhz"
      }
    },
    {
      "cell_type": "code",
      "source": [
        "from tensorflow.keras.utils import to_categorical\n",
        "print(train_labels.shape)\n",
        "train_labels = to_categorical(train_labels)\n",
        "print(train_labels.shape)\n",
        "test_labels = to_categorical(test_labels)"
      ],
      "metadata": {
        "id": "HQNNjdORGKe7",
        "colab": {
          "base_uri": "https://localhost:8080/"
        },
        "outputId": "69472eef-fb15-4d5b-e6eb-af5df17d7f56"
      },
      "execution_count": 22,
      "outputs": [
        {
          "output_type": "stream",
          "name": "stdout",
          "text": [
            "(60000,)\n",
            "(60000, 10)\n"
          ]
        }
      ]
    },
    {
      "cell_type": "code",
      "source": [
        "network.fit(train_images, train_labels, epochs=8, batch_size=32)"
      ],
      "metadata": {
        "colab": {
          "base_uri": "https://localhost:8080/"
        },
        "id": "NcBDW6bq3-go",
        "outputId": "8bf7bf5f-1d80-4539-bd87-8606f9494cf3"
      },
      "execution_count": 23,
      "outputs": [
        {
          "output_type": "stream",
          "name": "stdout",
          "text": [
            "Epoch 1/8\n",
            "1875/1875 [==============================] - 19s 9ms/step - loss: 0.1899 - accuracy: 0.9429\n",
            "Epoch 2/8\n",
            "1875/1875 [==============================] - 17s 9ms/step - loss: 0.0923 - accuracy: 0.9754\n",
            "Epoch 3/8\n",
            "1875/1875 [==============================] - 17s 9ms/step - loss: 0.0744 - accuracy: 0.9815\n",
            "Epoch 4/8\n",
            "1875/1875 [==============================] - 18s 10ms/step - loss: 0.0640 - accuracy: 0.9844\n",
            "Epoch 5/8\n",
            "1875/1875 [==============================] - 19s 10ms/step - loss: 0.0564 - accuracy: 0.9873\n",
            "Epoch 6/8\n",
            "1875/1875 [==============================] - 18s 10ms/step - loss: 0.0493 - accuracy: 0.9888\n",
            "Epoch 7/8\n",
            "1875/1875 [==============================] - 18s 10ms/step - loss: 0.0448 - accuracy: 0.9902\n",
            "Epoch 8/8\n",
            "1875/1875 [==============================] - 19s 10ms/step - loss: 0.0389 - accuracy: 0.9918\n"
          ]
        },
        {
          "output_type": "execute_result",
          "data": {
            "text/plain": [
              "<keras.callbacks.History at 0x7fe79b1f1c10>"
            ]
          },
          "metadata": {},
          "execution_count": 23
        }
      ]
    },
    {
      "cell_type": "markdown",
      "source": [
        "**Calculating the performance of algorithm.**"
      ],
      "metadata": {
        "id": "Syl9UH-UmIhq"
      }
    },
    {
      "cell_type": "code",
      "source": [
        "test_loss,test_acc = network.evaluate(test_images,test_labels) "
      ],
      "metadata": {
        "colab": {
          "base_uri": "https://localhost:8080/"
        },
        "id": "5_eavKkimIHl",
        "outputId": "cac39c6f-70d1-4bcf-8658-aab7187a60f9"
      },
      "execution_count": 24,
      "outputs": [
        {
          "output_type": "stream",
          "name": "stdout",
          "text": [
            "313/313 [==============================] - 1s 4ms/step - loss: 0.2027 - accuracy: 0.9766\n"
          ]
        }
      ]
    },
    {
      "cell_type": "code",
      "source": [
        "print('test_acc:',test_acc)\n",
        "print('test_loss:',test_loss)"
      ],
      "metadata": {
        "colab": {
          "base_uri": "https://localhost:8080/"
        },
        "id": "88-GWq1JmotY",
        "outputId": "71e9f99f-5364-4b36-df37-b3e7575c3214"
      },
      "execution_count": 25,
      "outputs": [
        {
          "output_type": "stream",
          "name": "stdout",
          "text": [
            "test_acc: 0.9765999913215637\n",
            "test_loss: 0.20271365344524384\n"
          ]
        }
      ]
    }
  ]
}