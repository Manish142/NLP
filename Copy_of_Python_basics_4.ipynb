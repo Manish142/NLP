{
  "nbformat": 4,
  "nbformat_minor": 0,
  "metadata": {
    "colab": {
      "name": "Copy of Python_basics_4.ipynb",
      "provenance": [],
      "collapsed_sections": [],
      "authorship_tag": "ABX9TyPm3c22KSyFI5zqTNvdfJhO",
      "include_colab_link": true
    },
    "kernelspec": {
      "name": "python3",
      "display_name": "Python 3"
    },
    "language_info": {
      "name": "python"
    }
  },
  "cells": [
    {
      "cell_type": "markdown",
      "metadata": {
        "id": "view-in-github",
        "colab_type": "text"
      },
      "source": [
        "<a href=\"https://colab.research.google.com/github/Manish142/NLP/blob/Edits/Copy_of_Python_basics_4.ipynb\" target=\"_parent\"><img src=\"https://colab.research.google.com/assets/colab-badge.svg\" alt=\"Open In Colab\"/></a>"
      ]
    },
    {
      "cell_type": "markdown",
      "source": [
        "# Numpy "
      ],
      "metadata": {
        "id": "2K2yUoGQkFNz"
      }
    },
    {
      "cell_type": "markdown",
      "source": [
        "This file illustrates the key concepts involved in the learning of Numpy library."
      ],
      "metadata": {
        "id": "NhZSrjJST2y5"
      }
    },
    {
      "cell_type": "markdown",
      "source": [
        "## Basics of Numpy"
      ],
      "metadata": {
        "id": "7hEQ_AZErIvV"
      }
    },
    {
      "cell_type": "markdown",
      "source": [
        "Importing the numpy library:"
      ],
      "metadata": {
        "id": "xoVOsrtgiJwd"
      }
    },
    {
      "cell_type": "code",
      "execution_count": 18,
      "metadata": {
        "id": "mL2NMCyRibhY"
      },
      "outputs": [],
      "source": [
        "import numpy as np"
      ]
    },
    {
      "cell_type": "markdown",
      "source": [
        "The shape, dimension and data type of the numpy array is obtained as follows:"
      ],
      "metadata": {
        "id": "MWkRtqXhkdmT"
      }
    },
    {
      "cell_type": "code",
      "source": [
        "a = np.arange(12).reshape(3,4)\n",
        "a_shape = a.shape                  # Shape of the numpy array a \n",
        "a_dim = a.ndim                     # Dimension of the numpy array a \n",
        "a_data_type = a.dtype.name         # Data type of the variable a\n",
        "\n",
        "print('The shape of the ndarry a is',a_shape)\n",
        "print('The dimension of the ndarry a is', a_dim)\n",
        "print('The data type of elements of the array a is', a_data_type)"
      ],
      "metadata": {
        "id": "yBXugaUwkdXG",
        "outputId": "eb6b9480-4059-4d79-f8eb-bb13cbbb5d04",
        "colab": {
          "base_uri": "https://localhost:8080/"
        }
      },
      "execution_count": 19,
      "outputs": [
        {
          "output_type": "stream",
          "name": "stdout",
          "text": [
            "The shape of the ndarry a is (3, 4)\n",
            "The dimension of the ndarry a is 2\n",
            "The data type of elements of the array a is int64\n"
          ]
        }
      ]
    },
    {
      "cell_type": "markdown",
      "source": [
        "## Creating Numpy Array\n"
      ],
      "metadata": {
        "id": "Up26RoHIpIwH"
      }
    },
    {
      "cell_type": "markdown",
      "source": [
        "Python Sequence to numpy array"
      ],
      "metadata": {
        "id": "LDMv73fPpP4K"
      }
    },
    {
      "cell_type": "code",
      "source": [
        "a1D = np.array([1, 2, 3, 4])"
      ],
      "metadata": {
        "id": "rzleq7YjpIWX"
      },
      "execution_count": 20,
      "outputs": []
    },
    {
      "cell_type": "code",
      "source": [
        "a1D"
      ],
      "metadata": {
        "id": "t8rqY4ZT6ZsX",
        "outputId": "5af99623-ca1f-4403-a5bd-f38be441eb1c",
        "colab": {
          "base_uri": "https://localhost:8080/"
        }
      },
      "execution_count": 21,
      "outputs": [
        {
          "output_type": "execute_result",
          "data": {
            "text/plain": [
              "array([1, 2, 3, 4])"
            ]
          },
          "metadata": {},
          "execution_count": 21
        }
      ]
    },
    {
      "cell_type": "markdown",
      "source": [
        "We can also convert list into numpy array as follows:"
      ],
      "metadata": {
        "id": "F0GZlt5S65lm"
      }
    },
    {
      "cell_type": "code",
      "source": [
        "list1 = [5,6,7,8,9]\n",
        "a = np.array(list1)\n",
        "type(a)"
      ],
      "metadata": {
        "id": "0jo16S1C6eKo",
        "outputId": "7366efae-f2ec-408a-d44c-3668270895db",
        "colab": {
          "base_uri": "https://localhost:8080/"
        }
      },
      "execution_count": 22,
      "outputs": [
        {
          "output_type": "execute_result",
          "data": {
            "text/plain": [
              "numpy.ndarray"
            ]
          },
          "metadata": {},
          "execution_count": 22
        }
      ]
    },
    {
      "cell_type": "markdown",
      "source": [
        "Creating numpy using functions"
      ],
      "metadata": {
        "id": "uLZ4eWaijdvJ"
      }
    },
    {
      "cell_type": "code",
      "source": [
        "# NumPy array creation functions\n",
        "r = np.arange(10)\n",
        "r_1 = np.linspace(2., 4., 6)\n",
        "\n",
        "print('The numpy array r is as follows:', r)\n",
        "print('The numpy array r_1 is as follows:', r_1)"
      ],
      "metadata": {
        "id": "WpdBri5hpuqv",
        "outputId": "8841d5a5-aa90-4758-f420-fb7df519c94c",
        "colab": {
          "base_uri": "https://localhost:8080/"
        }
      },
      "execution_count": 23,
      "outputs": [
        {
          "output_type": "stream",
          "name": "stdout",
          "text": [
            "The numpy array r is as follows: [0 1 2 3 4 5 6 7 8 9]\n",
            "The numpy array r_1 is as follows: [2.  2.4 2.8 3.2 3.6 4. ]\n"
          ]
        }
      ]
    },
    {
      "cell_type": "markdown",
      "source": [
        "Creating the numpy array with constant interval."
      ],
      "metadata": {
        "id": "Z0tfFDsSTSdc"
      }
    },
    {
      "cell_type": "code",
      "source": [
        "list_array_1 = np.arange(3,10,2)\n",
        "list_array_2 = np.arange(3,10,0.1)\n",
        "list_array_3 = np.arange(0.3,10,0.2)\n",
        "\n",
        "# Number of points using linespace\n",
        "list_array_4= np.linspace(0, 1, 10)\n",
        "\n",
        "print(list_array_1)\n",
        "print(list_array_2)\n",
        "print(list_array_4)"
      ],
      "metadata": {
        "id": "oc1iN6-7pwyv",
        "outputId": "3b09556d-3faa-4704-b956-a50333233188",
        "colab": {
          "base_uri": "https://localhost:8080/"
        }
      },
      "execution_count": 24,
      "outputs": [
        {
          "output_type": "stream",
          "name": "stdout",
          "text": [
            "[3 5 7 9]\n",
            "[3.  3.1 3.2 3.3 3.4 3.5 3.6 3.7 3.8 3.9 4.  4.1 4.2 4.3 4.4 4.5 4.6 4.7\n",
            " 4.8 4.9 5.  5.1 5.2 5.3 5.4 5.5 5.6 5.7 5.8 5.9 6.  6.1 6.2 6.3 6.4 6.5\n",
            " 6.6 6.7 6.8 6.9 7.  7.1 7.2 7.3 7.4 7.5 7.6 7.7 7.8 7.9 8.  8.1 8.2 8.3\n",
            " 8.4 8.5 8.6 8.7 8.8 8.9 9.  9.1 9.2 9.3 9.4 9.5 9.6 9.7 9.8 9.9]\n",
            "[0.         0.11111111 0.22222222 0.33333333 0.44444444 0.55555556\n",
            " 0.66666667 0.77777778 0.88888889 1.        ]\n"
          ]
        }
      ]
    },
    {
      "cell_type": "markdown",
      "source": [
        "The following lines of the code illustrate the way of performing the arthimatic operations on each element of the list."
      ],
      "metadata": {
        "id": "yINHrmkSjt8E"
      }
    },
    {
      "cell_type": "code",
      "source": [
        "marks = [40, 35, 26, 25, 54]  # Write the marks of the class\n",
        "#new_list1 = 2*marks\n",
        "#new_list2 = marks+10\n",
        "new_list1 = []   # Creating the the empty list of marks\n",
        "for a in marks:\n",
        "    new_list1.append(a*2)   #new_list1 = marks*2\n",
        "\n",
        "new_list2 = []\n",
        "for a in marks:\n",
        "    new_list2.append(a+10)   #new_list2 = marks+10\n",
        "\n",
        "print('The marks obtained by squaring the each element of the list (marks)',new_list1)\n",
        "print('After adding 10 to each element of the list (marks)', new_list2)"
      ],
      "metadata": {
        "id": "pEIFFBBICGb5",
        "outputId": "84b398c0-f018-4194-d824-d7d44e9966a6",
        "colab": {
          "base_uri": "https://localhost:8080/"
        }
      },
      "execution_count": 25,
      "outputs": [
        {
          "output_type": "stream",
          "name": "stdout",
          "text": [
            "The marks obtained by squaring the each element of the list (marks) [80, 70, 52, 50, 108]\n",
            "After adding 10 to each element of the list (marks) [50, 45, 36, 35, 64]\n"
          ]
        }
      ]
    },
    {
      "cell_type": "markdown",
      "source": [
        "The numpy library makes it easy to implement the arthimatic operations on every element of the sequence. And this is illustrated by following lines of the code:"
      ],
      "metadata": {
        "id": "DdyaqjHapJfx"
      }
    },
    {
      "cell_type": "code",
      "source": [
        "marks_np = np.array(marks)  # Converting list(marks) to numpy array (marks_np)\n",
        "type(marks_np)              # Checking the data type of the array\n",
        "\n",
        "new_list1 = marks_np*2      # Multiplying each element of the array by 2\n",
        "new_list2 = marks_np+10     # Adding 10 to every element of the the array\n",
        "new_list3 = marks_np*2+10   # Multipling by 2 and then adding 10 to the resutant to every element of the array"
      ],
      "metadata": {
        "id": "7nXuFDf9C1Uk"
      },
      "execution_count": 26,
      "outputs": []
    },
    {
      "cell_type": "markdown",
      "source": [
        "## Indexing and slicing"
      ],
      "metadata": {
        "id": "yHmh8qNVr8Zk"
      }
    },
    {
      "cell_type": "markdown",
      "source": [
        "Indexing and slicing are also possible using ndarray, and it is quite similar to the list data type."
      ],
      "metadata": {
        "id": "WcD6JwO-ppvC"
      }
    },
    {
      "cell_type": "code",
      "source": [
        "marks_1= marks_np[1] # Marks of first student \n",
        "print(marks_1)\n",
        "\n",
        "# Marks of the students from 2 to 10\n",
        "marks_2= marks[2:4]\n",
        "\n",
        "array_a = np.array([1,2,3,4,5])\n",
        "array_b = np.array([8,9,10,11,12]) \n",
        "\n",
        "array_sum=array_a+array_b            # Adding corresponding elements of array_a and array_b\n",
        "array_multiply = array_a*array_b     # Multiplying corresponding elements of the array_a and array_b\n",
        "\n",
        "array_a.dtype # Find the data type of elements\n",
        "array_b.dtype\n",
        "\n",
        "print('The summation of two arrays, i.e., array_a and array_b is:',array_sum)\n",
        "print('The multiplication of two arrays, i.e., array_a and array_b is:',array_multiply)"
      ],
      "metadata": {
        "id": "75GF7buPHa5x",
        "outputId": "f293985b-3253-45a1-b062-dd0eb13eecaa",
        "colab": {
          "base_uri": "https://localhost:8080/"
        }
      },
      "execution_count": 27,
      "outputs": [
        {
          "output_type": "stream",
          "name": "stdout",
          "text": [
            "35\n",
            "The summation of two arrays, i.e., array_a and array_b is: [ 9 11 13 15 17]\n",
            "The multiplication of two arrays, i.e., array_a and array_b is: [ 8 18 30 44 60]\n"
          ]
        }
      ]
    },
    {
      "cell_type": "code",
      "source": [
        "numbers = np.array([[1, 2, 3, 4], [5, 6, 7, 8], [9, 10, 11, 12]])\n",
        "numbers[1,2]     # indexing \n",
        "q=numbers[0:2,3] # indexing and slicing"
      ],
      "metadata": {
        "id": "0nfFD2rUHvbC"
      },
      "execution_count": 28,
      "outputs": []
    },
    {
      "cell_type": "code",
      "source": [
        "print(numbers)\n",
        "print(numbers.shape)\n",
        "print(numbers.ndim)"
      ],
      "metadata": {
        "id": "hCK2Ng1ZIB6n",
        "colab": {
          "base_uri": "https://localhost:8080/"
        },
        "outputId": "acde15a0-98b7-48b7-ff50-515e473d35ed"
      },
      "execution_count": 29,
      "outputs": [
        {
          "output_type": "stream",
          "name": "stdout",
          "text": [
            "[[ 1  2  3  4]\n",
            " [ 5  6  7  8]\n",
            " [ 9 10 11 12]]\n",
            "(3, 4)\n",
            "2\n"
          ]
        }
      ]
    },
    {
      "cell_type": "code",
      "source": [
        "print(numbers[1,2])     # indexing \n",
        "q=numbers[0:2,3] # indexing and slicing"
      ],
      "metadata": {
        "colab": {
          "base_uri": "https://localhost:8080/"
        },
        "id": "RkCU_6OhEyti",
        "outputId": "340fd2f7-b1c7-4b61-c8d5-428371467893"
      },
      "execution_count": 30,
      "outputs": [
        {
          "output_type": "stream",
          "name": "stdout",
          "text": [
            "7\n"
          ]
        }
      ]
    },
    {
      "cell_type": "code",
      "source": [
        "print(q)\n",
        "print(q.shape)\n",
        "print(q.ndim)"
      ],
      "metadata": {
        "colab": {
          "base_uri": "https://localhost:8080/"
        },
        "id": "S20vppMUE5V4",
        "outputId": "9c37b26a-35f8-4a5c-c742-1b85b6fb5083"
      },
      "execution_count": 31,
      "outputs": [
        {
          "output_type": "stream",
          "name": "stdout",
          "text": [
            "[4 8]\n",
            "(2,)\n",
            "1\n"
          ]
        }
      ]
    },
    {
      "cell_type": "code",
      "source": [
        "# Changing the data type from int to float\n",
        "array_a= array_a.astype('float')\n",
        "array_b = array_b.astype('float')\n",
        "array_a.shape"
      ],
      "metadata": {
        "id": "0Kwjd14ZIOHq",
        "colab": {
          "base_uri": "https://localhost:8080/"
        },
        "outputId": "f7dea05c-090c-4e6c-f4bc-2f7a1f5cc39e"
      },
      "execution_count": 32,
      "outputs": [
        {
          "output_type": "execute_result",
          "data": {
            "text/plain": [
              "(5,)"
            ]
          },
          "metadata": {},
          "execution_count": 32
        }
      ]
    },
    {
      "cell_type": "markdown",
      "source": [
        "## Numpy operations using OOP"
      ],
      "metadata": {
        "id": "3pmGg2ucsLid"
      }
    },
    {
      "cell_type": "code",
      "source": [
        "numbers = np.array([[6, 10, 14, 18], [10, 7, 14, 11], [15, 12, 6, 14]])\n",
        "\n",
        "# Methods using OOP\n",
        "numbers.max()    # method of OOP\n",
        "numbers.max(0)   # Max. along coloumn\n",
        "\n",
        "numbers.max(1)   # Max. along row\n",
        "numbers.mean()   # Calculating the mean \n",
        "\n",
        "numbers.std()   # Standard deviation\n",
        "r=np.histogram(numbers)\n",
        "\n",
        "numbers.min()\n",
        "numbers.min(0)  \n",
        "numbers.min(1)  \n",
        "numbers.sum(0)"
      ],
      "metadata": {
        "id": "fLIwLqPRIZOP",
        "colab": {
          "base_uri": "https://localhost:8080/"
        },
        "outputId": "3c06db7f-f24b-47be-ee8d-f19f63581f9e"
      },
      "execution_count": 33,
      "outputs": [
        {
          "output_type": "execute_result",
          "data": {
            "text/plain": [
              "array([31, 29, 34, 43])"
            ]
          },
          "metadata": {},
          "execution_count": 33
        }
      ]
    },
    {
      "cell_type": "markdown",
      "source": [
        "## Numpy operations without using OOP"
      ],
      "metadata": {
        "id": "gmsQiv5dsXpG"
      }
    },
    {
      "cell_type": "code",
      "source": [
        "np.max(numbers, axis=0) # Along column\n",
        "np.max(numbers, axis=1)  # Max. value along row"
      ],
      "metadata": {
        "id": "3yCBPdkfIntr",
        "colab": {
          "base_uri": "https://localhost:8080/"
        },
        "outputId": "2115e640-362c-4c04-d024-fda7f3cf466f"
      },
      "execution_count": 34,
      "outputs": [
        {
          "output_type": "execute_result",
          "data": {
            "text/plain": [
              "array([18, 14, 15])"
            ]
          },
          "metadata": {},
          "execution_count": 34
        }
      ]
    },
    {
      "cell_type": "code",
      "source": [
        "# numpy with boolean \n",
        "a= [1,2,3,4,5]\n",
        "a > 4   \n",
        "\n",
        "num = [1,4,8,7,9]\n",
        "num > 3\n",
        "\n",
        "num1= np.array(num)\n",
        "num1 > 3\n"
      ],
      "metadata": {
        "id": "mp_xny7OIs7p",
        "colab": {
          "base_uri": "https://localhost:8080/",
          "height": 235
        },
        "outputId": "c1c23a07-8a59-49ae-854f-65eb051df956"
      },
      "execution_count": 36,
      "outputs": [
        {
          "output_type": "error",
          "ename": "TypeError",
          "evalue": "ignored",
          "traceback": [
            "\u001b[0;31m---------------------------------------------------------------------------\u001b[0m",
            "\u001b[0;31mTypeError\u001b[0m                                 Traceback (most recent call last)",
            "\u001b[0;32m<ipython-input-36-7626bd710c41>\u001b[0m in \u001b[0;36m<module>\u001b[0;34m()\u001b[0m\n\u001b[1;32m      1\u001b[0m \u001b[0;31m# numpy with boolean\u001b[0m\u001b[0;34m\u001b[0m\u001b[0;34m\u001b[0m\u001b[0;34m\u001b[0m\u001b[0m\n\u001b[1;32m      2\u001b[0m \u001b[0ma\u001b[0m\u001b[0;34m=\u001b[0m \u001b[0;34m[\u001b[0m\u001b[0;36m1\u001b[0m\u001b[0;34m,\u001b[0m\u001b[0;36m2\u001b[0m\u001b[0;34m,\u001b[0m\u001b[0;36m3\u001b[0m\u001b[0;34m,\u001b[0m\u001b[0;36m4\u001b[0m\u001b[0;34m,\u001b[0m\u001b[0;36m5\u001b[0m\u001b[0;34m]\u001b[0m\u001b[0;34m\u001b[0m\u001b[0;34m\u001b[0m\u001b[0m\n\u001b[0;32m----> 3\u001b[0;31m \u001b[0ma\u001b[0m \u001b[0;34m>\u001b[0m \u001b[0;36m4\u001b[0m\u001b[0;34m\u001b[0m\u001b[0;34m\u001b[0m\u001b[0m\n\u001b[0m\u001b[1;32m      4\u001b[0m \u001b[0;34m\u001b[0m\u001b[0m\n\u001b[1;32m      5\u001b[0m \u001b[0;32mimport\u001b[0m \u001b[0mnumpy\u001b[0m \u001b[0;32mas\u001b[0m \u001b[0mnp\u001b[0m\u001b[0;34m\u001b[0m\u001b[0;34m\u001b[0m\u001b[0m\n",
            "\u001b[0;31mTypeError\u001b[0m: '>' not supported between instances of 'list' and 'int'"
          ]
        }
      ]
    },
    {
      "cell_type": "markdown",
      "source": [
        "Comparing the every element of the array with 4."
      ],
      "metadata": {
        "id": "KKaxCsjgHa3u"
      }
    },
    {
      "cell_type": "code",
      "source": [
        "import numpy as np\n",
        "b= np.array(a)\n",
        "b > 4"
      ],
      "metadata": {
        "colab": {
          "base_uri": "https://localhost:8080/"
        },
        "id": "wyi-GP6GHU5C",
        "outputId": "5e7f028b-1a94-4113-a067-bf6ffde53f8f"
      },
      "execution_count": 37,
      "outputs": [
        {
          "output_type": "execute_result",
          "data": {
            "text/plain": [
              "array([False, False, False, False,  True])"
            ]
          },
          "metadata": {},
          "execution_count": 37
        }
      ]
    },
    {
      "cell_type": "code",
      "source": [
        "num = [1,4,8,7,9]\n",
        "num > 3"
      ],
      "metadata": {
        "colab": {
          "base_uri": "https://localhost:8080/",
          "height": 182
        },
        "id": "fO-Yox0eHkAf",
        "outputId": "d25256eb-e96a-449e-c93e-4d0df49843ba"
      },
      "execution_count": 38,
      "outputs": [
        {
          "output_type": "error",
          "ename": "TypeError",
          "evalue": "ignored",
          "traceback": [
            "\u001b[0;31m---------------------------------------------------------------------------\u001b[0m",
            "\u001b[0;31mTypeError\u001b[0m                                 Traceback (most recent call last)",
            "\u001b[0;32m<ipython-input-38-54aef8d813fd>\u001b[0m in \u001b[0;36m<module>\u001b[0;34m()\u001b[0m\n\u001b[1;32m      1\u001b[0m \u001b[0mnum\u001b[0m \u001b[0;34m=\u001b[0m \u001b[0;34m[\u001b[0m\u001b[0;36m1\u001b[0m\u001b[0;34m,\u001b[0m\u001b[0;36m4\u001b[0m\u001b[0;34m,\u001b[0m\u001b[0;36m8\u001b[0m\u001b[0;34m,\u001b[0m\u001b[0;36m7\u001b[0m\u001b[0;34m,\u001b[0m\u001b[0;36m9\u001b[0m\u001b[0;34m]\u001b[0m\u001b[0;34m\u001b[0m\u001b[0;34m\u001b[0m\u001b[0m\n\u001b[0;32m----> 2\u001b[0;31m \u001b[0mnum\u001b[0m \u001b[0;34m>\u001b[0m \u001b[0;36m3\u001b[0m\u001b[0;34m\u001b[0m\u001b[0;34m\u001b[0m\u001b[0m\n\u001b[0m",
            "\u001b[0;31mTypeError\u001b[0m: '>' not supported between instances of 'list' and 'int'"
          ]
        }
      ]
    },
    {
      "cell_type": "markdown",
      "source": [
        "As a list is converted to numpy array, we can compare the obtained array with the constant(3)."
      ],
      "metadata": {
        "id": "jQzPW_dDHvzP"
      }
    },
    {
      "cell_type": "code",
      "source": [
        "num1= np.array(num)\n",
        "num1 > 3"
      ],
      "metadata": {
        "colab": {
          "base_uri": "https://localhost:8080/"
        },
        "id": "i0PsjLfXHtR3",
        "outputId": "a65f506d-ed99-4d78-cb43-7d5ce76aff29"
      },
      "execution_count": 39,
      "outputs": [
        {
          "output_type": "execute_result",
          "data": {
            "text/plain": [
              "array([False,  True,  True,  True,  True])"
            ]
          },
          "metadata": {},
          "execution_count": 39
        }
      ]
    },
    {
      "cell_type": "markdown",
      "source": [
        "Using math library"
      ],
      "metadata": {
        "id": "NG9lc8U2Iwwa"
      }
    },
    {
      "cell_type": "code",
      "source": [
        "import math\n",
        "x= [1,2,4,5]\n",
        "a= 0.1\n",
        "\n",
        "y= math.sin(x-a)/x"
      ],
      "metadata": {
        "id": "sWsLqQ-RI5st"
      },
      "execution_count": null,
      "outputs": []
    },
    {
      "cell_type": "code",
      "source": [
        "import numpy as np\n",
        "a = 5\n",
        "x = np.linspace(1, 10, 1000)\n",
        "y = np.sin(x-a)/x\n",
        "id(y)\n",
        "x=y\n",
        "id(x)\n",
        "# id provides a reference to the memory location where the object is stored"
      ],
      "metadata": {
        "id": "6JktrkZ2TBpu"
      },
      "execution_count": null,
      "outputs": []
    },
    {
      "cell_type": "markdown",
      "source": [
        "Id provides a reference to the memory location where the object is stored"
      ],
      "metadata": {
        "id": "dP0VPV4AS7wI"
      }
    },
    {
      "cell_type": "markdown",
      "source": [
        "NumPy views and copies"
      ],
      "metadata": {
        "id": "-slS5-d8SXB0"
      }
    },
    {
      "cell_type": "code",
      "source": [
        "# NumPy views and copies\n",
        "# Copy of the ndarray\n",
        "numbers = np.array([[6, 10, 14, 18], [10, 7, 14, 11], [15, 12, 6, 14]])\n",
        "numbers_view = numbers[2:]\n",
        "numbers_copy= numbers.copy()"
      ],
      "metadata": {
        "id": "3Lenig9SSA27"
      },
      "execution_count": null,
      "outputs": []
    },
    {
      "cell_type": "markdown",
      "source": [
        "Plotting with the numpy array using matplotlib."
      ],
      "metadata": {
        "id": "iNnbYmNfRtKs"
      }
    },
    {
      "cell_type": "code",
      "source": [
        "import numpy as np\n",
        "import matplotlib.pyplot as plt\n",
        "a = 25\n",
        "\n",
        "x = np.linspace(1, 10, 10000)\n",
        "y = np.sin(x-a)/x\n",
        "plt.plot(x, y)\n",
        "plt.show()\n",
        "\n",
        "y = np.cos(x-a)/x\n",
        "plt.plot(x, y)\n",
        "plt.show()\n",
        "\n",
        "y = np.exp(x-a)/x\n",
        "plt.plot(x, y)\n",
        "plt.show()"
      ],
      "metadata": {
        "id": "hDZNY1XXQ2ZQ"
      },
      "execution_count": null,
      "outputs": []
    },
    {
      "cell_type": "markdown",
      "source": [
        "##Loading the numpy array from csv file."
      ],
      "metadata": {
        "id": "m7FqxdXhsvgP"
      }
    },
    {
      "cell_type": "markdown",
      "source": [
        "Loading the text data from csv file in ndarray."
      ],
      "metadata": {
        "id": "lWrWBs-NQN8S"
      }
    },
    {
      "cell_type": "code",
      "source": [
        "import numpy as np\n",
        "data = np.loadtxt(\"mean_daily_temperatures_from_1772.csv\", delimiter=\",\", dtype=int)\n",
        "print(data)\n",
        "data[0,13]\n",
        "data[0,:]\n",
        "data[:,0]\n",
        "column_2= data[:,1]\n",
        "print(column_2)"
      ],
      "metadata": {
        "id": "XaaX8mEgJjv-"
      },
      "execution_count": null,
      "outputs": []
    }
  ]
}